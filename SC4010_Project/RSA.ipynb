{
 "cells": [
  {
   "cell_type": "markdown",
   "id": "1e0c19be-497e-4f98-835e-d05da160f5f0",
   "metadata": {},
   "source": [
    "## Imports"
   ]
  },
  {
   "cell_type": "code",
   "execution_count": 1,
   "id": "6b43758e-3c82-42df-a833-5952b4ed78a8",
   "metadata": {},
   "outputs": [],
   "source": [
    "import numpy as np\n",
    "import pandas as pd\n",
    "\n",
    "import matplotlib.pyplot as plt\n",
    "import seaborn as sns\n",
    "\n",
    "from sage.all import *\n",
    "from tqdm.auto import tqdm"
   ]
  },
  {
   "cell_type": "markdown",
   "id": "89de8d1f-d8bb-4355-b9e0-8f7b2101c784",
   "metadata": {},
   "source": [
    "## Generate RSA keypairs for all public exponents < 47"
   ]
  },
  {
   "cell_type": "code",
   "execution_count": 2,
   "id": "d1e3a44c-06fa-45e2-97f0-0c2a8d5e64b2",
   "metadata": {},
   "outputs": [],
   "source": [
    "p_lt_47 = [i for i in primes_first_n(47) if i > 2 and i < 47]"
   ]
  },
  {
   "cell_type": "code",
   "execution_count": 3,
   "id": "14f8e69c-de89-4257-b26b-7e62e992eeab",
   "metadata": {},
   "outputs": [
    {
     "data": {
      "application/vnd.jupyter.widget-view+json": {
       "model_id": "003e6be528604c9497a04a11bb5f430c",
       "version_major": 2,
       "version_minor": 0
      },
      "text/plain": [
       "  0%|          | 0/13 [00:00<?, ?it/s]"
      ]
     },
     "metadata": {},
     "output_type": "display_data"
    }
   ],
   "source": [
    "keypairs = list()\n",
    "for e in tqdm(p_lt_47):\n",
    "    first_loop = True\n",
    "    while first_loop or gcd(e, phi) != 1 or N.nbits() != 2048:\n",
    "        first_loop = False\n",
    "        # Note: Product of two 1024-bit primes not always 2048 bit\n",
    "        # As this is just a proof of concept, we just reject if n < 2048 bits.\n",
    "        p = random_prime(2**1024-1, False, 2**1023)\n",
    "        q = random_prime(2**1024-1, False, 2**1023)\n",
    "        N = p * q\n",
    "        phi = (p - 1) * (q - 1)\n",
    "    bezout = xgcd(e, phi)\n",
    "    d = Integer(mod(bezout[1], phi))\n",
    "    n=N.nbits()\n",
    "    keypairs.append(dict(p=p, q=q, N=N, n=n, phi=phi, e=e, d=d))\n",
    "    assert mod(d * e, phi) == 1"
   ]
  },
  {
   "cell_type": "markdown",
   "id": "acee1620-7c47-401e-8f1e-a07199342dbf",
   "metadata": {},
   "source": [
    "## Utility functions"
   ]
  },
  {
   "cell_type": "markdown",
   "id": "6d98a816-5006-4573-8ef3-4163684da6a2",
   "metadata": {},
   "source": [
    "### Determine the maximum vulnerable padding"
   ]
  },
  {
   "cell_type": "code",
   "execution_count": 4,
   "id": "ae92425f-33d7-4f25-b7dc-005721ba41bc",
   "metadata": {},
   "outputs": [],
   "source": [
    "for keypair in keypairs:\n",
    "    keypair['m'] = Integer(ceil(keypair['n'] / keypair['e'] ** 2))"
   ]
  },
  {
   "cell_type": "markdown",
   "id": "17425581-a9d5-46cf-b739-152e187b42d6",
   "metadata": {},
   "source": [
    "### Function to generate plaintext-padding pairs"
   ]
  },
  {
   "cell_type": "code",
   "execution_count": 5,
   "id": "6151d121-15f7-41bd-b440-320ad4449f53",
   "metadata": {},
   "outputs": [],
   "source": [
    "def plaintext(N, m):\n",
    "    n = N.nbits()\n",
    "    first_loop = True\n",
    "    while first_loop or M*2**m + 2**m-1 >= N:\n",
    "        first_loop = False\n",
    "        M = Integer(randint(2**(n-m-1)-1, 2**(n-m)-1))\n",
    "    return M"
   ]
  },
  {
   "cell_type": "code",
   "execution_count": 6,
   "id": "d8f750cd-d8b7-4bc6-8b4f-2c77498db861",
   "metadata": {},
   "outputs": [],
   "source": [
    "def padding(N, m, M):\n",
    "    n = N.nbits()\n",
    "    r = Integer(randint(2**(m-1)-1, 2**m-1))\n",
    "    M_padded=M*2**m+r\n",
    "    return dict(M=M, r=r, M_padded=M_padded)"
   ]
  },
  {
   "cell_type": "code",
   "execution_count": 7,
   "id": "ab79b4f0-4c2d-4156-aa1d-ae07531bea83",
   "metadata": {},
   "outputs": [],
   "source": [
    "p, q, N, n, phi, e, d, m = keypairs[0].values()\n",
    "m = 20\n",
    "M = plaintext(N, m)\n",
    "M, r, M_padded = padding(N, m, M).values()"
   ]
  },
  {
   "cell_type": "code",
   "execution_count": 8,
   "id": "e50b9a1b-aa27-4be5-903f-5f2507571425",
   "metadata": {},
   "outputs": [
    {
     "data": {
      "text/plain": [
       "True"
      ]
     },
     "execution_count": 8,
     "metadata": {},
     "output_type": "execute_result"
    }
   ],
   "source": [
    "power_mod(power_mod(M_padded, e, N), d, N) == M_padded"
   ]
  },
  {
   "cell_type": "markdown",
   "id": "315a7d38-abc8-4a78-8cb8-ae479d30252f",
   "metadata": {},
   "source": [
    "### Function to perform Coppersmith's attack for short padding"
   ]
  },
  {
   "cell_type": "code",
   "execution_count": 9,
   "id": "d7c1dcd7-1a1e-459f-b8f1-93ca2449a8a3",
   "metadata": {},
   "outputs": [],
   "source": [
    "def small_roots(self, X=None, beta=1.0, epsilon=None, **kwds):\n",
    "    r\"\"\"\n",
    "    Let `N` be the characteristic of the base ring this polynomial\n",
    "    is defined over: ``N = self.base_ring().characteristic()``.\n",
    "    This method returns small roots of this polynomial modulo some\n",
    "    factor `b` of `N` with the constraint that `b >= N^\\beta`.\n",
    "    Small in this context means that if `x` is a root of `f`\n",
    "    modulo `b` then `|x| < X`. This `X` is either provided by the\n",
    "    user or the maximum `X` is chosen such that this algorithm\n",
    "    terminates in polynomial time. If `X` is chosen automatically\n",
    "    it is `X = ceil(1/2 N^{\\beta^2/\\delta - \\epsilon})`.\n",
    "    The algorithm may also return some roots which are larger than `X`.\n",
    "    'This algorithm' in this context means Coppersmith's algorithm for finding\n",
    "    small roots using the LLL algorithm. The implementation of this algorithm\n",
    "    follows Alexander May's PhD thesis referenced below.\n",
    "\n",
    "    INPUT:\n",
    "\n",
    "    - ``X`` -- an absolute bound for the root (default: see above)\n",
    "    - ``beta`` -- compute a root mod `b` where `b` is a factor of `N` and `b\n",
    "      \\ge N^\\beta` (default: 1.0, so `b = N`.)\n",
    "    - ``epsilon`` -- the parameter `\\epsilon` described above. (default: `\\beta/8`)\n",
    "    - ``**kwds`` -- passed through to method :meth:`Matrix_integer_dense.LLL() <sage.matrix.matrix_integer_dense.Matrix_integer_dense.LLL>`\n",
    "\n",
    "    EXAMPLES:\n",
    "\n",
    "    First consider a small example::\n",
    "\n",
    "        sage: N = 10001\n",
    "        sage: K = Zmod(10001)\n",
    "        sage: P.<x> = PolynomialRing(K, implementation='NTL')\n",
    "        sage: f = x^3 + 10*x^2 + 5000*x - 222\n",
    "\n",
    "    This polynomial has no roots without modular reduction (i.e. over `\\ZZ`)::\n",
    "\n",
    "        sage: f.change_ring(ZZ).roots()\n",
    "        []\n",
    "\n",
    "    To compute its roots we need to factor the modulus `N` and use the Chinese\n",
    "    remainder theorem::\n",
    "\n",
    "        sage: p, q = N.prime_divisors()\n",
    "        sage: f.change_ring(GF(p)).roots()\n",
    "        [(4, 1)]\n",
    "        sage: f.change_ring(GF(q)).roots()\n",
    "        [(4, 1)]\n",
    "\n",
    "        sage: crt(4, 4, p, q)\n",
    "        4\n",
    "\n",
    "    This root is quite small compared to `N`, so we can attempt to\n",
    "    recover it without factoring `N` using Coppersmith's small root\n",
    "    method::\n",
    "\n",
    "        sage: f.small_roots()\n",
    "        [4]\n",
    "\n",
    "    An application of this method is to consider RSA. We are using 512-bit RSA\n",
    "    with public exponent `e=3` to encrypt a 56-bit DES key. Because it would be\n",
    "    easy to attack this setting if no padding was used we pad the key `K` with\n",
    "    1s to get a large number::\n",
    "\n",
    "        sage: Nbits, Kbits = 512, 56\n",
    "        sage: e = 3\n",
    "\n",
    "    We choose two primes of size 256-bit each::\n",
    "\n",
    "        sage: p = 2^256 + 2^8 + 2^5 + 2^3 + 1\n",
    "        sage: q = 2^256 + 2^8 + 2^5 + 2^3 + 2^2 + 1\n",
    "        sage: N = p*q\n",
    "        sage: ZmodN = Zmod( N )\n",
    "\n",
    "    We choose a random key::\n",
    "\n",
    "        sage: K = ZZ.random_element(0, 2^Kbits)\n",
    "\n",
    "    and pad it with `512-56=456` 1s::\n",
    "\n",
    "        sage: Kdigits = K.digits(2)\n",
    "        sage: M = [0]*Kbits + [1]*(Nbits-Kbits)\n",
    "        sage: for i in range(len(Kdigits)): M[i] = Kdigits[i]\n",
    "\n",
    "        sage: M = ZZ(M, 2)\n",
    "\n",
    "    Now we encrypt the resulting message::\n",
    "\n",
    "        sage: C = ZmodN(M)^e\n",
    "\n",
    "    To recover `K` we consider the following polynomial modulo `N`::\n",
    "\n",
    "        sage: P.<x> = PolynomialRing(ZmodN, implementation='NTL')\n",
    "        sage: f = (2^Nbits - 2^Kbits + x)^e - C\n",
    "\n",
    "    and recover its small roots::\n",
    "\n",
    "        sage: Kbar = f.small_roots()[0]\n",
    "        sage: K == Kbar\n",
    "        True\n",
    "\n",
    "    The same algorithm can be used to factor `N = pq` if partial\n",
    "    knowledge about `q` is available. This example is from the\n",
    "    Magma handbook:\n",
    "\n",
    "    First, we set up `p`, `q` and `N`::\n",
    "\n",
    "        sage: length = 512\n",
    "        sage: hidden = 110\n",
    "        sage: p = next_prime(2^int(round(length/2)))\n",
    "        sage: q = next_prime(round(pi.n()*p))                                           # needs sage.symbolic\n",
    "        sage: N = p*q                                                                   # needs sage.symbolic\n",
    "\n",
    "    Now we disturb the low 110 bits of `q`::\n",
    "\n",
    "        sage: qbar = q + ZZ.random_element(0, 2^hidden - 1)                             # needs sage.symbolic\n",
    "\n",
    "    And try to recover `q` from it::\n",
    "\n",
    "        sage: F.<x> = PolynomialRing(Zmod(N), implementation='NTL')                     # needs sage.symbolic\n",
    "        sage: f = x - qbar                                                              # needs sage.symbolic\n",
    "\n",
    "    We know that the error is `\\le 2^{\\text{hidden}}-1` and that the modulus\n",
    "    we are looking for is `\\ge \\sqrt{N}`::\n",
    "\n",
    "        sage: from sage.misc.verbose import set_verbose\n",
    "        sage: set_verbose(2)\n",
    "        sage: d = f.small_roots(X=2^hidden-1, beta=0.5)[0]  # time random               # needs sage.symbolic\n",
    "        verbose 2 (<module>) m = 4\n",
    "        verbose 2 (<module>) t = 4\n",
    "        verbose 2 (<module>) X = 1298074214633706907132624082305023\n",
    "        verbose 1 (<module>) LLL of 8x8 matrix (algorithm fpLLL:wrapper)\n",
    "        verbose 1 (<module>) LLL finished (time = 0.006998)\n",
    "        sage: q == qbar - d                                                             # needs sage.symbolic\n",
    "        True\n",
    "\n",
    "    REFERENCES:\n",
    "\n",
    "    Don Coppersmith. *Finding a small root of a univariate modular equation.*\n",
    "    In Advances in Cryptology, EuroCrypt 1996, volume 1070 of Lecture\n",
    "    Notes in Computer Science, p. 155--165. Springer, 1996.\n",
    "    http://cr.yp.to/bib/2001/coppersmith.pdf\n",
    "\n",
    "    Alexander May. *New RSA Vulnerabilities Using Lattice Reduction Methods.*\n",
    "    PhD thesis, University of Paderborn, 2003.\n",
    "    http://www.cs.uni-paderborn.de/uploads/tx_sibibtex/bp.pdf\n",
    "    \"\"\"\n",
    "    from sage.misc.verbose import verbose\n",
    "    from sage.matrix.constructor import Matrix\n",
    "    from sage.rings.real_mpfr import RR\n",
    "\n",
    "    N = self.parent().characteristic()\n",
    "\n",
    "    if not self.is_monic():\n",
    "        raise ArithmeticError(\"Polynomial must be monic.\")\n",
    "\n",
    "    beta = RR(beta)\n",
    "    if beta <= 0.0 or beta > 1.0:\n",
    "        raise ValueError(\"0.0 < beta <= 1.0 not satisfied.\")\n",
    "\n",
    "    f = self.change_ring(ZZ)\n",
    "\n",
    "    P,(x,) = f.parent().objgens()\n",
    "\n",
    "    delta = f.degree()\n",
    "\n",
    "    if epsilon is None:\n",
    "        epsilon = beta/8\n",
    "    verbose(\"epsilon = %f\"%epsilon, level=2)\n",
    "\n",
    "    m = max(beta**2/(delta * epsilon), 7*beta/delta).ceil()\n",
    "    verbose(\"m = %d\"%m, level=2)\n",
    "\n",
    "    t = int( ( delta*m*(1/beta -1) ).floor() )\n",
    "    verbose(\"t = %d\"%t, level=2)\n",
    "\n",
    "    if X is None:\n",
    "        X = (0.5 * N**(beta**2/delta - epsilon)).ceil()\n",
    "    verbose(\"X = %s\"%X, level=2)\n",
    "\n",
    "    # we could do this much faster, but this is a cheap step\n",
    "    # compared to LLL\n",
    "    g  = [x**j * N**(m-i) * f**i for i in range(m) for j in range(delta) ]\n",
    "    g.extend([x**i * f**m for i in range(t)]) # h\n",
    "\n",
    "    B = Matrix(ZZ, len(g), delta*m + max(delta,t) )\n",
    "    for i in range(B.nrows()):\n",
    "        for j in range( g[i].degree()+1 ):\n",
    "            B[i,j] = g[i][j]*X**j\n",
    "\n",
    "    B =  B.LLL(**kwds)\n",
    "\n",
    "    f = sum([ZZ(B[0,i]//X**i)*x**i for i in range(B.ncols())])\n",
    "    R = f.roots()\n",
    "\n",
    "    ZmodN = self.base_ring()\n",
    "    roots = set([ZmodN(r) for r,m in R])\n",
    "    return list(roots)"
   ]
  },
  {
   "cell_type": "code",
   "execution_count": 10,
   "id": "7f1c2251-d2e5-45da-a5f7-1b8d077b6b48",
   "metadata": {},
   "outputs": [],
   "source": [
    "def coppersmiths_(e, N, C1, C2):\n",
    "    p_xy_mod_N = Zmod(N)['x', 'y']\n",
    "    p_y_mod_N = Zmod(N)['y']\n",
    "    \n",
    "    x, y = p_xy_mod_N.gens()\n",
    "    g1 = x ** e - C1\n",
    "    g2 = (x + y) ** e - C2\n",
    "    \n",
    "    g1 = g1.change_ring(p_y_mod_N)\n",
    "    g2 = g2.change_ring(p_y_mod_N)\n",
    "    res = g1.resultant(g2, x)\n",
    "    \n",
    "    res = res.change_ring(Zmod(N))\n",
    "    res = res.univariate_polynomial()\n",
    "    assert res.base_ring().characteristic() == N\n",
    "\n",
    "    delta = small_roots(res, X=2**(N.nbits()//(2*e*e)), beta=0.5)\n",
    "    \n",
    "    #print(diff)\n",
    "    if len(delta) == 0:\n",
    "        delta = np.inf\n",
    "    else:\n",
    "        delta = delta[0]\n",
    "        assert(res(delta)) == 0\n",
    "        return int(delta)\n",
    "    return delta\n",
    "def coppersmiths(e, N, C1, C2):\n",
    "    r2_minus_r1 = coppersmiths_(e, N, C1, C2)\n",
    "    r1_minus_r2 = coppersmiths_(e, N, C2, C1)\n",
    "    if r2_minus_r1 > r1_minus_r2:\n",
    "        r2_minus_r1 = -r1_minus_r2    \n",
    "    return r2_minus_r1"
   ]
  },
  {
   "cell_type": "code",
   "execution_count": 11,
   "id": "74bb8080-d90b-4ed4-8bf9-d6ca0efa4b98",
   "metadata": {},
   "outputs": [
    {
     "data": {
      "text/plain": [
       "10384593717069655257060992658440192"
      ]
     },
     "execution_count": 11,
     "metadata": {},
     "output_type": "execute_result"
    }
   ],
   "source": [
    "2**(N.nbits() // (e**2 * 2))"
   ]
  },
  {
   "cell_type": "code",
   "execution_count": 12,
   "id": "fc52447e-1f54-4e88-b629-223a0423155f",
   "metadata": {},
   "outputs": [
    {
     "data": {
      "text/plain": [
       "(387, 387)"
      ]
     },
     "execution_count": 12,
     "metadata": {},
     "output_type": "execute_result"
    }
   ],
   "source": [
    "p, q, N, n, phi, e, d, m = keypairs[0].values()\n",
    "m = 10\n",
    "\n",
    "M = plaintext(N, m)\n",
    "_, r1, M1 = padding(N, m, M).values()\n",
    "C1 = power_mod(M1, e, N)\n",
    "_, r2, M2 = padding(N, m, M).values()\n",
    "C2 = power_mod(M2, e, N)\n",
    "\n",
    "coppersmiths(e, N, C1, C2), r2 - r1"
   ]
  },
  {
   "cell_type": "markdown",
   "id": "057b2178-4d6f-4a28-949e-a7f73b4d19d6",
   "metadata": {},
   "source": [
    "## Function to perform the related-message attack"
   ]
  },
  {
   "cell_type": "code",
   "execution_count": 13,
   "id": "4a349cab-236c-4471-a409-7cf47f377b63",
   "metadata": {},
   "outputs": [],
   "source": [
    "def related_message_attack(N, e, C1, C2, delta):\n",
    "    x = Zmod(N)['x'].gen()\n",
    "    g1, g2 = x ** e - C1, (x + delta) ** e - C2\n",
    "    while g2 != 0:\n",
    "        g1, g2 = g2, g1 % g2\n",
    "    polynomial_gcd = g1.monic()\n",
    "    x_minus_M2 = polynomial_gcd.coefficients()[0]\n",
    "    M2 = -x_minus_M2\n",
    "    return M2"
   ]
  },
  {
   "cell_type": "code",
   "execution_count": 14,
   "id": "9256e15c-b4bc-45b6-8a39-9dab48fe738b",
   "metadata": {},
   "outputs": [
    {
     "name": "stdout",
     "output_type": "stream",
     "text": [
      "1 1\n"
     ]
    },
    {
     "data": {
      "text/plain": [
       "True"
      ]
     },
     "execution_count": 14,
     "metadata": {},
     "output_type": "execute_result"
    }
   ],
   "source": [
    "p, q, N, n, phi, e, d, m = keypairs[2].values()\n",
    "m = 3\n",
    "\n",
    "M = plaintext(N, m)\n",
    "_, r1, M1 = padding(N, m, M).values()\n",
    "C1 = power_mod(M1, e, N)\n",
    "_, r2, M2 = padding(N, m, M).values()\n",
    "C2 = power_mod(M2, e, N)\n",
    "\n",
    "delta = coppersmiths(e, N, C1, C2)\n",
    "print(delta, r2-r1)\n",
    "related_message_attack(N, e, C1, C2, delta) == M1"
   ]
  },
  {
   "cell_type": "markdown",
   "id": "7d9ecebe-45a7-4df4-bd05-1b8b3dacf497",
   "metadata": {},
   "source": [
    "## Plot our results"
   ]
  },
  {
   "cell_type": "code",
   "execution_count": 15,
   "id": "addeefe5-8237-4aef-b0c8-13dba0bf756f",
   "metadata": {},
   "outputs": [
    {
     "ename": "TypeError",
     "evalue": "unsupported format string passed to sage.rings.rational.Rational.__format__",
     "output_type": "error",
     "traceback": [
      "\u001b[0;31m---------------------------------------------------------------------------\u001b[0m",
      "\u001b[0;31mTypeError\u001b[0m                                 Traceback (most recent call last)",
      "File \u001b[0;32m/opt/miniconda3/envs/sage/lib/python3.9/site-packages/IPython/core/formatters.py:974\u001b[0m, in \u001b[0;36mMimeBundleFormatter.__call__\u001b[0;34m(self, obj, include, exclude)\u001b[0m\n\u001b[1;32m    971\u001b[0m     method \u001b[38;5;241m=\u001b[39m get_real_method(obj, \u001b[38;5;28mself\u001b[39m\u001b[38;5;241m.\u001b[39mprint_method)\n\u001b[1;32m    973\u001b[0m     \u001b[38;5;28;01mif\u001b[39;00m method \u001b[38;5;129;01mis\u001b[39;00m \u001b[38;5;129;01mnot\u001b[39;00m \u001b[38;5;28;01mNone\u001b[39;00m:\n\u001b[0;32m--> 974\u001b[0m         \u001b[38;5;28;01mreturn\u001b[39;00m \u001b[43mmethod\u001b[49m\u001b[43m(\u001b[49m\u001b[43minclude\u001b[49m\u001b[38;5;241;43m=\u001b[39;49m\u001b[43minclude\u001b[49m\u001b[43m,\u001b[49m\u001b[43m \u001b[49m\u001b[43mexclude\u001b[49m\u001b[38;5;241;43m=\u001b[39;49m\u001b[43mexclude\u001b[49m\u001b[43m)\u001b[49m\n\u001b[1;32m    975\u001b[0m     \u001b[38;5;28;01mreturn\u001b[39;00m \u001b[38;5;28;01mNone\u001b[39;00m\n\u001b[1;32m    976\u001b[0m \u001b[38;5;28;01melse\u001b[39;00m:\n",
      "File \u001b[0;32m/opt/miniconda3/envs/sage/lib/python3.9/site-packages/ipywidgets/widgets/widget.py:803\u001b[0m, in \u001b[0;36mWidget._repr_mimebundle_\u001b[0;34m(self, **kwargs)\u001b[0m\n\u001b[1;32m    802\u001b[0m \u001b[38;5;28;01mdef\u001b[39;00m \u001b[38;5;21m_repr_mimebundle_\u001b[39m(\u001b[38;5;28mself\u001b[39m, \u001b[38;5;241m*\u001b[39m\u001b[38;5;241m*\u001b[39mkwargs):\n\u001b[0;32m--> 803\u001b[0m     plaintext \u001b[38;5;241m=\u001b[39m \u001b[38;5;28;43mrepr\u001b[39;49m\u001b[43m(\u001b[49m\u001b[38;5;28;43mself\u001b[39;49m\u001b[43m)\u001b[49m\n\u001b[1;32m    804\u001b[0m     \u001b[38;5;28;01mif\u001b[39;00m \u001b[38;5;28mlen\u001b[39m(plaintext) \u001b[38;5;241m>\u001b[39m \u001b[38;5;241m110\u001b[39m:\n\u001b[1;32m    805\u001b[0m         plaintext \u001b[38;5;241m=\u001b[39m plaintext[:\u001b[38;5;241m110\u001b[39m] \u001b[38;5;241m+\u001b[39m \u001b[38;5;124m'\u001b[39m\u001b[38;5;124m…\u001b[39m\u001b[38;5;124m'\u001b[39m\n",
      "File \u001b[0;32m/opt/miniconda3/envs/sage/lib/python3.9/site-packages/tqdm/notebook.py:84\u001b[0m, in \u001b[0;36mTqdmHBox.__repr__\u001b[0;34m(self, pretty)\u001b[0m\n\u001b[1;32m     82\u001b[0m \u001b[38;5;28;01mif\u001b[39;00m pbar \u001b[38;5;129;01mis\u001b[39;00m \u001b[38;5;28;01mNone\u001b[39;00m:\n\u001b[1;32m     83\u001b[0m     \u001b[38;5;28;01mreturn\u001b[39;00m \u001b[38;5;28msuper\u001b[39m()\u001b[38;5;241m.\u001b[39m\u001b[38;5;21m__repr__\u001b[39m()\n\u001b[0;32m---> 84\u001b[0m \u001b[38;5;28;01mreturn\u001b[39;00m \u001b[43mpbar\u001b[49m\u001b[38;5;241;43m.\u001b[39;49m\u001b[43mformat_meter\u001b[49m\u001b[43m(\u001b[49m\u001b[38;5;241;43m*\u001b[39;49m\u001b[38;5;241;43m*\u001b[39;49m\u001b[38;5;28;43mself\u001b[39;49m\u001b[38;5;241;43m.\u001b[39;49m\u001b[43m_json_\u001b[49m\u001b[43m(\u001b[49m\u001b[43mpretty\u001b[49m\u001b[43m)\u001b[49m\u001b[43m)\u001b[49m\n",
      "File \u001b[0;32m/opt/miniconda3/envs/sage/lib/python3.9/site-packages/tqdm/std.py:615\u001b[0m, in \u001b[0;36mtqdm.format_meter\u001b[0;34m(n, total, elapsed, ncols, prefix, ascii, unit, unit_scale, rate, bar_format, postfix, unit_divisor, initial, colour, **extra_kwargs)\u001b[0m\n\u001b[1;32m    612\u001b[0m frac \u001b[38;5;241m=\u001b[39m n \u001b[38;5;241m/\u001b[39m total\n\u001b[1;32m    613\u001b[0m percentage \u001b[38;5;241m=\u001b[39m frac \u001b[38;5;241m*\u001b[39m \u001b[38;5;241m100\u001b[39m\n\u001b[0;32m--> 615\u001b[0m l_bar \u001b[38;5;241m+\u001b[39m\u001b[38;5;241m=\u001b[39m \u001b[38;5;124mf\u001b[39m\u001b[38;5;124m'\u001b[39m\u001b[38;5;132;01m{\u001b[39;00mpercentage\u001b[38;5;132;01m:\u001b[39;00m\u001b[38;5;124m3.0f\u001b[39m\u001b[38;5;132;01m}\u001b[39;00m\u001b[38;5;124m%|\u001b[39m\u001b[38;5;124m'\u001b[39m\n\u001b[1;32m    617\u001b[0m \u001b[38;5;28;01mif\u001b[39;00m ncols \u001b[38;5;241m==\u001b[39m \u001b[38;5;241m0\u001b[39m:\n\u001b[1;32m    618\u001b[0m     \u001b[38;5;28;01mreturn\u001b[39;00m l_bar[:\u001b[38;5;241m-\u001b[39m\u001b[38;5;241m1\u001b[39m] \u001b[38;5;241m+\u001b[39m r_bar[\u001b[38;5;241m1\u001b[39m:]\n",
      "\u001b[0;31mTypeError\u001b[0m: unsupported format string passed to sage.rings.rational.Rational.__format__"
     ]
    },
    {
     "data": {
      "text/plain": [
       "<repr(<tqdm.notebook.TqdmHBox at 0x169994dc0>) failed: TypeError: unsupported format string passed to sage.rings.rational.Rational.__format__>"
      ]
     },
     "metadata": {},
     "output_type": "display_data"
    },
    {
     "ename": "TypeError",
     "evalue": "unsupported format string passed to sage.rings.rational.Rational.__format__",
     "output_type": "error",
     "traceback": [
      "\u001b[0;31m---------------------------------------------------------------------------\u001b[0m",
      "\u001b[0;31mTypeError\u001b[0m                                 Traceback (most recent call last)",
      "Cell \u001b[0;32mIn[15], line 2\u001b[0m\n\u001b[1;32m      1\u001b[0m results \u001b[38;5;241m=\u001b[39m []\n\u001b[0;32m----> 2\u001b[0m \u001b[38;5;28;01mwith\u001b[39;00m \u001b[43mtqdm\u001b[49m\u001b[43m(\u001b[49m\u001b[43mtotal\u001b[49m\u001b[38;5;241;43m=\u001b[39;49m\u001b[38;5;28;43mlen\u001b[39;49m\u001b[43m(\u001b[49m\u001b[43mkeypairs\u001b[49m\u001b[43m)\u001b[49m\u001b[38;5;241;43m*\u001b[39;49m\u001b[43mInteger\u001b[49m\u001b[43m(\u001b[49m\u001b[38;5;241;43m300\u001b[39;49m\u001b[43m)\u001b[49m\u001b[43m)\u001b[49m \u001b[38;5;28;01mas\u001b[39;00m pbar:\n\u001b[1;32m      3\u001b[0m     \u001b[38;5;28;01mfor\u001b[39;00m i \u001b[38;5;129;01min\u001b[39;00m \u001b[38;5;28mrange\u001b[39m(Integer(\u001b[38;5;241m1\u001b[39m)):\n\u001b[1;32m      4\u001b[0m         \u001b[38;5;28;01mfor\u001b[39;00m keypair \u001b[38;5;129;01min\u001b[39;00m keypairs:\n",
      "File \u001b[0;32m/opt/miniconda3/envs/sage/lib/python3.9/site-packages/tqdm/notebook.py:245\u001b[0m, in \u001b[0;36mtqdm_notebook.__init__\u001b[0;34m(self, *args, **kwargs)\u001b[0m\n\u001b[1;32m    243\u001b[0m \u001b[38;5;66;03m# Print initial bar state\u001b[39;00m\n\u001b[1;32m    244\u001b[0m \u001b[38;5;28;01mif\u001b[39;00m \u001b[38;5;129;01mnot\u001b[39;00m \u001b[38;5;28mself\u001b[39m\u001b[38;5;241m.\u001b[39mdisable:\n\u001b[0;32m--> 245\u001b[0m     \u001b[38;5;28;43mself\u001b[39;49m\u001b[38;5;241;43m.\u001b[39;49m\u001b[43mdisplay\u001b[49m\u001b[43m(\u001b[49m\u001b[43mcheck_delay\u001b[49m\u001b[38;5;241;43m=\u001b[39;49m\u001b[38;5;28;43;01mFalse\u001b[39;49;00m\u001b[43m)\u001b[49m\n",
      "File \u001b[0;32m/opt/miniconda3/envs/sage/lib/python3.9/site-packages/tqdm/notebook.py:154\u001b[0m, in \u001b[0;36mtqdm_notebook.display\u001b[0;34m(self, msg, pos, close, bar_style, check_delay)\u001b[0m\n\u001b[1;32m    151\u001b[0m     \u001b[38;5;66;03m# remove {bar}\u001b[39;00m\n\u001b[1;32m    152\u001b[0m     d[\u001b[38;5;124m'\u001b[39m\u001b[38;5;124mbar_format\u001b[39m\u001b[38;5;124m'\u001b[39m] \u001b[38;5;241m=\u001b[39m (d[\u001b[38;5;124m'\u001b[39m\u001b[38;5;124mbar_format\u001b[39m\u001b[38;5;124m'\u001b[39m] \u001b[38;5;129;01mor\u001b[39;00m \u001b[38;5;124m\"\u001b[39m\u001b[38;5;132;01m{l_bar}\u001b[39;00m\u001b[38;5;124m<bar/>\u001b[39m\u001b[38;5;132;01m{r_bar}\u001b[39;00m\u001b[38;5;124m\"\u001b[39m)\u001b[38;5;241m.\u001b[39mreplace(\n\u001b[1;32m    153\u001b[0m         \u001b[38;5;124m\"\u001b[39m\u001b[38;5;132;01m{bar}\u001b[39;00m\u001b[38;5;124m\"\u001b[39m, \u001b[38;5;124m\"\u001b[39m\u001b[38;5;124m<bar/>\u001b[39m\u001b[38;5;124m\"\u001b[39m)\n\u001b[0;32m--> 154\u001b[0m     msg \u001b[38;5;241m=\u001b[39m \u001b[38;5;28;43mself\u001b[39;49m\u001b[38;5;241;43m.\u001b[39;49m\u001b[43mformat_meter\u001b[49m\u001b[43m(\u001b[49m\u001b[38;5;241;43m*\u001b[39;49m\u001b[38;5;241;43m*\u001b[39;49m\u001b[43md\u001b[49m\u001b[43m)\u001b[49m\n\u001b[1;32m    156\u001b[0m ltext, pbar, rtext \u001b[38;5;241m=\u001b[39m \u001b[38;5;28mself\u001b[39m\u001b[38;5;241m.\u001b[39mcontainer\u001b[38;5;241m.\u001b[39mchildren\n\u001b[1;32m    157\u001b[0m pbar\u001b[38;5;241m.\u001b[39mvalue \u001b[38;5;241m=\u001b[39m \u001b[38;5;28mself\u001b[39m\u001b[38;5;241m.\u001b[39mn\n",
      "File \u001b[0;32m/opt/miniconda3/envs/sage/lib/python3.9/site-packages/tqdm/std.py:615\u001b[0m, in \u001b[0;36mtqdm.format_meter\u001b[0;34m(n, total, elapsed, ncols, prefix, ascii, unit, unit_scale, rate, bar_format, postfix, unit_divisor, initial, colour, **extra_kwargs)\u001b[0m\n\u001b[1;32m    612\u001b[0m frac \u001b[38;5;241m=\u001b[39m n \u001b[38;5;241m/\u001b[39m total\n\u001b[1;32m    613\u001b[0m percentage \u001b[38;5;241m=\u001b[39m frac \u001b[38;5;241m*\u001b[39m \u001b[38;5;241m100\u001b[39m\n\u001b[0;32m--> 615\u001b[0m l_bar \u001b[38;5;241m+\u001b[39m\u001b[38;5;241m=\u001b[39m \u001b[38;5;124mf\u001b[39m\u001b[38;5;124m'\u001b[39m\u001b[38;5;132;01m{\u001b[39;00mpercentage\u001b[38;5;132;01m:\u001b[39;00m\u001b[38;5;124m3.0f\u001b[39m\u001b[38;5;132;01m}\u001b[39;00m\u001b[38;5;124m%|\u001b[39m\u001b[38;5;124m'\u001b[39m\n\u001b[1;32m    617\u001b[0m \u001b[38;5;28;01mif\u001b[39;00m ncols \u001b[38;5;241m==\u001b[39m \u001b[38;5;241m0\u001b[39m:\n\u001b[1;32m    618\u001b[0m     \u001b[38;5;28;01mreturn\u001b[39;00m l_bar[:\u001b[38;5;241m-\u001b[39m\u001b[38;5;241m1\u001b[39m] \u001b[38;5;241m+\u001b[39m r_bar[\u001b[38;5;241m1\u001b[39m:]\n",
      "\u001b[0;31mTypeError\u001b[0m: unsupported format string passed to sage.rings.rational.Rational.__format__"
     ]
    }
   ],
   "source": [
    "results = []\n",
    "with tqdm(total=len(keypairs)*300) as pbar:\n",
    "    for i in range(1):\n",
    "        for keypair in keypairs:\n",
    "            e, N = keypair['e'], keypair['N']\n",
    "            for m in range(1, 228):\n",
    "                p, q, N, n, phi, e, d, _ = keypair.values()\n",
    "                if m > n / e**2:\n",
    "                    pass\n",
    "    \n",
    "                M = plaintext(N, m)\n",
    "                _, r1, M1 = padding(N, m, M).values()\n",
    "                C1 = power_mod(M1, e, N)\n",
    "                _, r2, M2 = padding(N, m, M).values()\n",
    "                C2 = power_mod(M2, e, N)\n",
    "    \n",
    "                import time\n",
    "                # Calculate the start time\n",
    "                start = time.time()\n",
    "    \n",
    "                delta = coppersmiths(e, N, C1, C2)\n",
    "                if delta < N:\n",
    "                    if related_message_attack(N, e, C1, C2, delta) == M1:\n",
    "                        end = time.time()\n",
    "                        length = end - start\n",
    "                        results.append(dict(p=p, q=q, N=N, n=n, e=e, d=d, m=m, time=length))\n",
    "                    else:\n",
    "                        print(m)\n",
    "                else:\n",
    "                    pbar.update(228-m)\n",
    "                    break\n",
    "                pbar.update()"
   ]
  },
  {
   "cell_type": "markdown",
   "id": "311611b1-f296-4d6f-859b-89785106facc",
   "metadata": {},
   "source": [
    "## generating keys for wieners attack"
   ]
  },
  {
   "cell_type": "code",
   "execution_count": 16,
   "id": "6f8ae4aa-3f62-4416-abf7-6d29f789636b",
   "metadata": {},
   "outputs": [
    {
     "data": {
      "text/plain": [
       "(16, 2047, 1)"
      ]
     },
     "execution_count": 16,
     "metadata": {},
     "output_type": "execute_result"
    }
   ],
   "source": [
    "e = random_prime(2**16-1, False, 2**15)\n",
    "first_loop = True\n",
    "while first_loop or gcd(e, phi) != 1 or N.nbits() != 2048:\n",
    "    first_loop = False\n",
    "    # Note: Product of two 1024-bit primes not always 2048 bit\n",
    "    # As this is just a proof of concept, we just reject if n < 2048 bits.\n",
    "    p = random_prime(2**1024-1, False, 2**1023)\n",
    "    q = random_prime(2**1024-1, False, 2**1023)\n",
    "    N = p * q\n",
    "    phi = (p - 1) * (q - 1)\n",
    "bezout = xgcd(e, phi)\n",
    "d = Integer(mod(bezout[1], phi))\n",
    "n=N.nbits()\n",
    "keypairs.append(dict(p=p, q=q, N=N, n=n, phi=phi, e=e, d=d))\n",
    "assert mod(d * e, phi) == 1\n",
    "# swap the public and private exponent\n",
    "e, d = d, e\n",
    "# check that now we have small private exponent, big public exponent, and still e coprime to phi\n",
    "d.nbits(), e.nbits(), gcd(e, phi)"
   ]
  },
  {
   "cell_type": "code",
   "execution_count": null,
   "id": "a9341022-e40f-4392-a9da-b04856ec8442",
   "metadata": {},
   "outputs": [],
   "source": []
  },
  {
   "cell_type": "code",
   "execution_count": null,
   "id": "df187681",
   "metadata": {},
   "outputs": [],
   "source": []
  },
  {
   "cell_type": "code",
   "execution_count": null,
   "id": "3d5b8409",
   "metadata": {},
   "outputs": [],
   "source": []
  }
 ],
 "metadata": {
  "kernelspec": {
   "display_name": "SageMath 10.0",
   "language": "sage",
   "name": "sagemath"
  },
  "language_info": {
   "codemirror_mode": {
    "name": "ipython",
    "version": 3
   },
   "file_extension": ".py",
   "mimetype": "text/x-python",
   "name": "python",
   "nbconvert_exporter": "python",
   "pygments_lexer": "ipython3",
   "version": "3.9.19"
  }
 },
 "nbformat": 4,
 "nbformat_minor": 5
}
